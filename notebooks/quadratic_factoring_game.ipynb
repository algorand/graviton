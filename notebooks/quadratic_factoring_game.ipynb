{
 "cells": [
  {
   "cell_type": "markdown",
   "metadata": {},
   "source": [
    "# Consider the quadratic $x^2 - 12x + 35$"
   ]
  },
  {
   "cell_type": "code",
   "execution_count": 1,
   "metadata": {},
   "outputs": [],
   "source": [
    "x = 42"
   ]
  }
 ],
 "metadata": {
  "interpreter": {
   "hash": "cc7b2a1767988fd8894055f999bc37e0cedcf372c09868088564c4af532681ed"
  },
  "kernelspec": {
   "display_name": "Python 3.10.2 ('py310-graviton': venv)",
   "language": "python",
   "name": "python3"
  },
  "language_info": {
   "codemirror_mode": {
    "name": "ipython",
    "version": 3
   },
   "file_extension": ".py",
   "mimetype": "text/x-python",
   "name": "python",
   "nbconvert_exporter": "python",
   "pygments_lexer": "ipython3",
   "version": "3.10.2"
  },
  "orig_nbformat": 4
 },
 "nbformat": 4,
 "nbformat_minor": 2
}

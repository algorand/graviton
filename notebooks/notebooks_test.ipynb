{
 "cells": [
  {
   "cell_type": "markdown",
   "metadata": {},
   "source": [
    "# Notes on Testing Notebooks\n",
    "\n",
    "Following [a blog post by Alex Remedios](https://semaphoreci.com/blog/test-jupyter-notebooks-with-pytest-and-nbmake)"
   ]
  },
  {
   "cell_type": "markdown",
   "metadata": {},
   "source": [
    "## Prereqs\n",
    "\n",
    "```sh\n",
    "make pip-notebooks\n",
    "```\n",
    "\n",
    "This installs the `require_extras.notebooks` dependencies into the virtual env "
   ]
  },
  {
   "cell_type": "markdown",
   "metadata": {},
   "source": [
    "## Testing the Notebook\n",
    "\n",
    "Assuming all the notebooks are under `./notebooks` the following commands will work with Pytest\n",
    "\n",
    "* Simple commmand:\n",
    "\n",
    "    `pytest --nbmake notebooks`\n",
    "* Distributed command (assuming `pytest-xdist` has been installed):\n",
    "\n",
    "    `pytest --nbmake -n auto notebooks`\n",
    "* Overwrite the notebooks (by default notebooks are untouched):\n",
    "\n",
    "    `pytest --nbmake --overwrite notebooks`"
   ]
  },
  {
   "cell_type": "markdown",
   "metadata": {},
   "source": [
    "### Example: Good Cell"
   ]
  },
  {
   "cell_type": "code",
   "execution_count": 1,
   "metadata": {},
   "outputs": [
    {
     "name": "stdout",
     "output_type": "stream",
     "text": [
      "\n",
      "2**3**5=14134776518227074636666380005943348126619871175004951664972849610340958208\n",
      "(2**3)**5=32768\n",
      "2**(3**5)=14134776518227074636666380005943348126619871175004951664972849610340958208\n",
      "\n"
     ]
    }
   ],
   "source": [
    "print(f\"\"\"\n",
    "{2**3**5=}\n",
    "{(2**3)**5=}\n",
    "{2**(3**5)=}\n",
    "\"\"\")"
   ]
  },
  {
   "cell_type": "markdown",
   "metadata": {},
   "source": [
    "### Example: Bad Cell\n",
    "\n",
    "By default, an erroring cell will fail the test. Here's an example run:\n",
    "\n",
    "```sh\n",
    "❯ pytest --nbmake  notebooks\n",
    "=== test session starts ===\n",
    "...\n",
    "collected 2 items\n",
    "                                       \n",
    "notebooks/notebooks_test.ipynb F   [50%]                                                                                                           \n",
    "notebooks/quadratic_factoring_game.ipynb . [100%]\n",
    "\n",
    "=== FAILURES ===\n",
    "/Users/zeph/github/algorand/graviton/notebooks/notebooks_test.ipynb\n",
    "---------------------------------------------------------------------------\n",
    "assert 2**3**5 == (2**3)**5, \"yeah, I know this is wrong\"\n",
    "---------------------------------------------------------------------------\n",
    "```\n",
    "\n",
    "But if we set the path `metadata.execution.allows_errors` in the notebook's JSON to `true`, \n",
    "then even though the cell still behaves as expected, it doesn't halt `pytest`'s execution, and `pytest` passes as well.\n",
    "\n",
    "IE: editing the notebook `*.ipynb` as JSON:\n",
    "\n",
    "```json\n",
    "# Set the path `metadata.execution.allows_errors = true`\n",
    "{\n",
    "    \"cells\": [ ... ],\n",
    "    ...\n",
    "    \"metadata\": {\n",
    "      \"execution\": {\n",
    "       \"allow_errors\": true\n",
    "      },\n",
    "    ...\n",
    "}\n",
    "```\n",
    "\n",
    "Now when you run `pytest`, the notebook won't fail even though the cell errors:\n",
    "\n",
    "```sh\n",
    "❯ pytest --nbmake notebooks\n",
    "=== test session starts ===\n",
    "platform darwin -- Python 3.10.2, pytest-7.1.1, pluggy-1.0.0\n",
    "rootdir: /Users/zeph/github/algorand/graviton\n",
    "plugins: hypothesis-6.41.0, xdist-2.5.0, forked-1.4.0, nbmake-1.3.0\n",
    "collected 2 items                                                                                                                                              \n",
    "\n",
    "notebooks/notebooks_test.ipynb .           [ 50%]\n",
    "notebooks/quadratic_factoring_game.ipynb . [100%]\n",
    "```"
   ]
  },
  {
   "cell_type": "code",
   "execution_count": 2,
   "metadata": {},
   "outputs": [
    {
     "ename": "AssertionError",
     "evalue": "yeah, I know this is wrong",
     "output_type": "error",
     "traceback": [
      "\u001b[0;31m---------------------------------------------------------------------------\u001b[0m",
      "\u001b[0;31mAssertionError\u001b[0m                            Traceback (most recent call last)",
      "\u001b[1;32m/Users/zeph/github/algorand/graviton/notebooks/notebooks_test.ipynb Cell 7'\u001b[0m in \u001b[0;36m<cell line: 1>\u001b[0;34m()\u001b[0m\n\u001b[0;32m----> <a href='vscode-notebook-cell:/Users/zeph/github/algorand/graviton/notebooks/notebooks_test.ipynb#ch0000006?line=0'>1</a>\u001b[0m \u001b[39massert\u001b[39;00m \u001b[39m2\u001b[39m\u001b[39m*\u001b[39m\u001b[39m*\u001b[39m\u001b[39m3\u001b[39m\u001b[39m*\u001b[39m\u001b[39m*\u001b[39m\u001b[39m5\u001b[39m \u001b[39m==\u001b[39m (\u001b[39m2\u001b[39m\u001b[39m*\u001b[39m\u001b[39m*\u001b[39m\u001b[39m3\u001b[39m)\u001b[39m*\u001b[39m\u001b[39m*\u001b[39m\u001b[39m5\u001b[39m, \u001b[39m\"\u001b[39m\u001b[39myeah, I know this is wrong\u001b[39m\u001b[39m\"\u001b[39m\n",
      "\u001b[0;31mAssertionError\u001b[0m: yeah, I know this is wrong"
     ]
    }
   ],
   "source": [
    "assert 2**3**5 == (2**3)**5, \"yeah, I know this is wrong\""
   ]
  },
  {
   "cell_type": "code",
   "execution_count": 3,
   "metadata": {},
   "outputs": [
    {
     "name": "stdout",
     "output_type": "stream",
     "text": [
      "I got here, even though the above failed\n"
     ]
    }
   ],
   "source": [
    "print(\"I got here, even though the above failed\")"
   ]
  },
  {
   "cell_type": "code",
   "execution_count": null,
   "metadata": {},
   "outputs": [],
   "source": []
  }
 ],
 "metadata": {
  "execution": {
   "allow_errors": true
  },
  "interpreter": {
   "hash": "cc7b2a1767988fd8894055f999bc37e0cedcf372c09868088564c4af532681ed"
  },
  "kernelspec": {
   "display_name": "Python 3 (ipykernel)",
   "language": "python",
   "name": "python3"
  },
  "language_info": {
   "codemirror_mode": {
    "name": "ipython",
    "version": 3
   },
   "file_extension": ".py",
   "mimetype": "text/x-python",
   "name": "python",
   "nbconvert_exporter": "python",
   "pygments_lexer": "ipython3",
   "version": "3.10.4"
  }
 },
 "nbformat": 4,
 "nbformat_minor": 4
}
